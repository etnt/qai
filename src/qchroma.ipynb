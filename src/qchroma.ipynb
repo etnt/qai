{
 "cells": [
  {
   "cell_type": "markdown",
   "metadata": {},
   "source": [
    "https://medium.com/@chilldenaya/vector-database-introduction-and-python-implementation-4a6ac8518c6b"
   ]
  },
  {
   "cell_type": "code",
   "execution_count": 1,
   "metadata": {},
   "outputs": [],
   "source": [
    "import chromadb\n",
    "from pprint import pprint\n",
    "\n",
    "client = chromadb.Client()\n"
   ]
  },
  {
   "cell_type": "code",
   "execution_count": 2,
   "metadata": {},
   "outputs": [],
   "source": [
    "collection = client.create_collection(\n",
    "      name=\"all-my-documents\",\n",
    "      metadata={\"hnsw:space\": \"cosine\"} # l2 is the default\n",
    "  )"
   ]
  },
  {
   "cell_type": "code",
   "execution_count": 3,
   "metadata": {},
   "outputs": [
    {
     "name": "stderr",
     "output_type": "stream",
     "text": [
      "/Users/ttornkvi/.cache/chroma/onnx_models/all-MiniLM-L6-v2/onnx.tar.gz: 100%|██████████| 79.3M/79.3M [00:04<00:00, 17.8MiB/s]\n"
     ]
    }
   ],
   "source": [
    "collection.add(\n",
    "    # fill own embedding here:\n",
    "    #embeddings=[[...]] \n",
    "    documents=[\n",
    "        \"This is a document about food\",\n",
    "        \"This is a document about animal's food\",\n",
    "        \"This is a document about cats and dogs\",\n",
    "    ],\n",
    "    metadatas=[{\"topic\": \"food\"}, {\"topic\": \"animal\"}, {\"topic\": \"animal\"}],\n",
    "    ids=[\"doc1\", \"docs2\", \"doc3\"],\n",
    ")"
   ]
  },
  {
   "cell_type": "code",
   "execution_count": 4,
   "metadata": {},
   "outputs": [],
   "source": [
    "results = collection.query(\n",
    "    query_texts=[\"This is a query asking about pizza\"],\n",
    "    n_results=2,\n",
    ")"
   ]
  },
  {
   "cell_type": "code",
   "execution_count": 5,
   "metadata": {},
   "outputs": [
    {
     "name": "stdout",
     "output_type": "stream",
     "text": [
      "{'data': None,\n",
      " 'distances': [[0.5715155601501465, 0.745352029800415]],\n",
      " 'documents': [['This is a document about food',\n",
      "                \"This is a document about animal's food\"]],\n",
      " 'embeddings': None,\n",
      " 'ids': [['doc1', 'docs2']],\n",
      " 'metadatas': [[{'topic': 'food'}, {'topic': 'animal'}]],\n",
      " 'uris': None}\n"
     ]
    }
   ],
   "source": [
    "pprint(results)"
   ]
  }
 ],
 "metadata": {
  "kernelspec": {
   "display_name": "pyvenv",
   "language": "python",
   "name": "python3"
  },
  "language_info": {
   "codemirror_mode": {
    "name": "ipython",
    "version": 3
   },
   "file_extension": ".py",
   "mimetype": "text/x-python",
   "name": "python",
   "nbconvert_exporter": "python",
   "pygments_lexer": "ipython3",
   "version": "3.12.3"
  }
 },
 "nbformat": 4,
 "nbformat_minor": 2
}
