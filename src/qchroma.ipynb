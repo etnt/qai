{
 "cells": [
  {
   "cell_type": "markdown",
   "metadata": {},
   "source": [
    "https://medium.com/@chilldenaya/vector-database-introduction-and-python-implementation-4a6ac8518c6b"
   ]
  },
  {
   "cell_type": "code",
   "execution_count": 6,
   "metadata": {},
   "outputs": [],
   "source": [
    "import chromadb\n",
    "from chromadb.config import Settings\n",
    "from pprint import pprint\n",
    "\n",
    "db_path = \"qchromaDB\"\n",
    "\n",
    "client_settings = Settings(\n",
    "    anonymized_telemetry=False,\n",
    "    is_persistent=True,\n",
    "    persist_directory=db_path,\n",
    "    allow_reset=True,\n",
    ")\n",
    "\n",
    "client = chromadb.Client(client_settings)\n"
   ]
  },
  {
   "cell_type": "code",
   "execution_count": 11,
   "metadata": {},
   "outputs": [
    {
     "data": {
      "text/plain": [
       "True"
      ]
     },
     "execution_count": 11,
     "metadata": {},
     "output_type": "execute_result"
    }
   ],
   "source": [
    "client.reset()"
   ]
  },
  {
   "cell_type": "code",
   "execution_count": 12,
   "metadata": {},
   "outputs": [],
   "source": [
    "from chromadb.utils import embedding_functions\n",
    "\n",
    "EMBED_MODEL = \"all-MiniLM-L6-v2\"\n",
    "embedding_func = embedding_functions.SentenceTransformerEmbeddingFunction(\n",
    "    model_name=EMBED_MODEL\n",
    ")"
   ]
  },
  {
   "cell_type": "code",
   "execution_count": 13,
   "metadata": {},
   "outputs": [],
   "source": [
    "collection = client.create_collection(\n",
    "    name=\"my-food-collection\",\n",
    "    metadata={\"hnsw:space\": \"cosine\"}, # l2 is the default\n",
    "    embedding_function=embedding_func,\n",
    ")"
   ]
  },
  {
   "cell_type": "code",
   "execution_count": 14,
   "metadata": {},
   "outputs": [],
   "source": [
    "collection.add(\n",
    "    # fill own embedding here:\n",
    "    #embeddings=[[...]] \n",
    "    documents=[\n",
    "        \"Food may be made from plants or animals\",\n",
    "        \"Some animals are meat-eaters and some are plant-eaters\",\n",
    "        \"Cats and dogs usually eat food made from animals\",\n",
    "    ],\n",
    "    metadatas=[{\"topic\": \"food\"}, {\"topic\": \"animal\"}, {\"topic\": \"animal\"}],\n",
    "    ids=[\"doc1\", \"docs2\", \"doc3\"],\n",
    ")"
   ]
  },
  {
   "cell_type": "code",
   "execution_count": 15,
   "metadata": {},
   "outputs": [],
   "source": [
    "collection.add(\n",
    "    # fill own embedding here:\n",
    "    #embeddings=[[...]] \n",
    "    documents=[\n",
    "        \"Vegetables are good for health\",\n",
    "        \"Examples of vegetables are carrot, beans, and peas\",\n",
    "        \"Panncakes are made from flour, eggs, and milk\",\n",
    "    ],\n",
    "    metadatas=[{\"topic\": \"food\"}, {\"topic\": \"food\"}, {\"topic\": \"food\"}],\n",
    "    ids=[\"doc11\", \"docs12\", \"doc13\"],\n",
    ")"
   ]
  },
  {
   "cell_type": "code",
   "execution_count": 16,
   "metadata": {},
   "outputs": [],
   "source": [
    "results = collection.query(\n",
    "    query_texts=[\"What does vegetable soup consist of?\"],\n",
    "    n_results=3,\n",
    ")"
   ]
  },
  {
   "cell_type": "code",
   "execution_count": 17,
   "metadata": {},
   "outputs": [
    {
     "name": "stdout",
     "output_type": "stream",
     "text": [
      "{'data': None,\n",
      " 'distances': [[0.44762538572303656, 0.5321055021441002, 0.585007892134938]],\n",
      " 'documents': [['Examples of vegetables are carrot, beans, and peas',\n",
      "                'Vegetables are good for health',\n",
      "                'Food may be made from plants or animals']],\n",
      " 'embeddings': None,\n",
      " 'ids': [['docs12', 'doc11', 'doc1']],\n",
      " 'metadatas': [[{'topic': 'food'}, {'topic': 'food'}, {'topic': 'food'}]],\n",
      " 'uris': None}\n"
     ]
    }
   ],
   "source": [
    "pprint(results)"
   ]
  },
  {
   "cell_type": "code",
   "execution_count": 18,
   "metadata": {},
   "outputs": [],
   "source": [
    "results = collection.query(\n",
    "    query_texts=[\"What does dogs eat?\"],\n",
    "    n_results=3,\n",
    ")"
   ]
  },
  {
   "cell_type": "code",
   "execution_count": 19,
   "metadata": {},
   "outputs": [
    {
     "name": "stdout",
     "output_type": "stream",
     "text": [
      "{'data': None,\n",
      " 'distances': [[0.2570904627449724, 0.47041244055997067, 0.5191561274471861]],\n",
      " 'documents': [['Cats and dogs usually eat food made from animals',\n",
      "                'Food may be made from plants or animals',\n",
      "                'Some animals are meat-eaters and some are plant-eaters']],\n",
      " 'embeddings': None,\n",
      " 'ids': [['doc3', 'doc1', 'docs2']],\n",
      " 'metadatas': [[{'topic': 'animal'}, {'topic': 'food'}, {'topic': 'animal'}]],\n",
      " 'uris': None}\n"
     ]
    }
   ],
   "source": [
    "pprint(results)"
   ]
  }
 ],
 "metadata": {
  "kernelspec": {
   "display_name": "pyvenv",
   "language": "python",
   "name": "python3"
  },
  "language_info": {
   "codemirror_mode": {
    "name": "ipython",
    "version": 3
   },
   "file_extension": ".py",
   "mimetype": "text/x-python",
   "name": "python",
   "nbconvert_exporter": "python",
   "pygments_lexer": "ipython3",
   "version": "3.12.3"
  }
 },
 "nbformat": 4,
 "nbformat_minor": 2
}
