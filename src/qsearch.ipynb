{
 "cells": [
  {
   "cell_type": "code",
   "execution_count": 159,
   "metadata": {},
   "outputs": [],
   "source": [
    "from typing import (\n",
    "    TYPE_CHECKING,\n",
    "    Any,\n",
    "    Callable,\n",
    "    Dict,\n",
    "    Iterable,\n",
    "    List,\n",
    "    Optional,\n",
    "    Tuple,\n",
    "    Type,\n",
    ")"
   ]
  },
  {
   "cell_type": "code",
   "execution_count": 160,
   "metadata": {},
   "outputs": [],
   "source": [
    "from qvdb import VectorDB\n",
    "\n",
    "qvdb = VectorDB(is_persistent=False)"
   ]
  },
  {
   "cell_type": "code",
   "execution_count": 161,
   "metadata": {},
   "outputs": [],
   "source": [
    "import requests\n",
    "from bs4 import BeautifulSoup\n",
    "from langchain.text_splitter import RecursiveCharacterTextSplitter\n",
    "\n",
    "def extract_url_content(url: str) -> List[str]:\n",
    "        \"\"\"\n",
    "        Extracts the content from the given URL.\n",
    "\n",
    "        Args:\n",
    "            url (str): The URL to extract content from.\n",
    "\n",
    "        Returns:\n",
    "            str: The extracted content.\n",
    "        \"\"\"\n",
    "        response = requests.get(url)\n",
    "        soup = BeautifulSoup(response.text, 'html.parser')\n",
    "        text = ' '.join([p.text for p in soup.find_all('p')])  # Extract text from <p> tags\n",
    "\n",
    "        # We need to split it up into smaller pieces\n",
    "        text_splitter = RecursiveCharacterTextSplitter(chunk_size=500, chunk_overlap=50)\n",
    "        text_splits = text_splitter.split_text(text)\n",
    "\n",
    "        return text_splits"
   ]
  },
  {
   "cell_type": "code",
   "execution_count": 162,
   "metadata": {},
   "outputs": [],
   "source": [
    "from googlesearch import search\n",
    "\n",
    "def search_and_store(qvdb: VectorDB, query: str, num_results: int = 5) -> None:\n",
    "        \"\"\"\n",
    "        Performs a Google Search for documents related to the given query,\n",
    "        extracts their content, and stores them in the vector store.\n",
    "\n",
    "        Args:\n",
    "            query (str): The query to search for documents.\n",
    "            num_results (int): The number of URLs to retrieve. Defaults to 5.\n",
    "\n",
    "        Returns:\n",
    "            None\n",
    "        \"\"\"\n",
    "        for index, url in enumerate(search(query, num_results)):\n",
    "            print(f\"<info> ({index}) Extracting content from: {url}\")\n",
    "            text_splits = extract_url_content(url=url)\n",
    "            for jindex, text in enumerate(text_splits):\n",
    "                qvdb.add(\n",
    "                    documents=[text],\n",
    "                    metadatas=[{\"source\": url}],\n",
    "                    ids=[f\"id{index}.{jindex}\"]\n",
    "                )"
   ]
  },
  {
   "cell_type": "code",
   "execution_count": 163,
   "metadata": {},
   "outputs": [],
   "source": [
    "#model = 'mistral'\n",
    "model= 'llama3'\n",
    "system=\"You are a helpful AI assistant that helps answer questions based on documents and sources.\"\n",
    "template = \"\"\"\n",
    "Your goal is to answer the provided question based on the provided documents and sources.\n",
    "You should produce a text answer which ends with the sources you used to answer the question.\n",
    "The text answer should have a maximum column width of 72 characters.\n",
    "Do not add any extra text or comment that is not in the documents!\n",
    "\n",
    "Example of the documents:\n",
    "\n",
    "SOURCE: https://www.example.com\n",
    "DOCUMENT: This is an example document.\n",
    "\n",
    "Here is the question: {question}\n",
    "\n",
    "Here are the documents: {documents}\n",
    "\n",
    "\"\"\""
   ]
  },
  {
   "cell_type": "code",
   "execution_count": 164,
   "metadata": {},
   "outputs": [],
   "source": [
    "#question = \"What makes Virus different from Bacteria?\"\n",
    "#question = \"How do I print just a few lines of a file using the sed command?\"\n",
    "question = \"Elaborate on who came up with the Periodical System?\""
   ]
  },
  {
   "cell_type": "code",
   "execution_count": 165,
   "metadata": {},
   "outputs": [
    {
     "name": "stdout",
     "output_type": "stream",
     "text": [
      "<info> (0) Extracting content from: https://www.asbmb.org/asbmb-today/science/020721/a-brief-history-of-the-periodic-table\n",
      "<info> (1) Extracting content from: https://en.wikipedia.org/wiki/History_of_the_periodic_table\n",
      "<info> (2) Extracting content from: https://www.rsc.org/periodic-table/history/about\n",
      "<info> (3) Extracting content from: https://academic.oup.com/book/40719/chapter/348474886\n",
      "<info> (4) Extracting content from: https://www.sciencehistory.org/stories/magazine/mendeleevs-legacy-the-periodic-system/\n",
      "{'ids': [['id1.45', 'id4.38', 'id2.11']], 'distances': [[0.43994587659835815, 0.4471851587295532, 0.46915537118911743]], 'metadatas': [[{'source': 'https://en.wikipedia.org/wiki/History_of_the_periodic_table'}, {'source': 'https://www.sciencehistory.org/stories/magazine/mendeleevs-legacy-the-periodic-system/'}, {'source': 'https://www.rsc.org/periodic-table/history/about'}]], 'embeddings': None, 'documents': [['Eventually, the periodic table was appreciated for its descriptive power and for finally systematizing the relationship between the elements,[50] although such appreciation was not universal.[51] In 1881, Mendeleev and Meyer had an argument via an exchange of articles in British journal Chemical News over priority of the periodic table, which included an article from Mendeleev, one from Meyer, one of critique of the notion of periodicity, and many more.[52] In 1882, the Royal Society in London', 'out Dmitri Ivanovich Mendeleev, and for the very legacy of periodicity, we are indebted to him. Eric Scerriis a lecturer in the Department of Chemistry and Biochemistry at the University of California, Los Angeles. He is the author of The Periodic Table: Its Story and Significance (Oxford University Press, 2006), from which this article is derived. Adventure and tangled interests under the sea. An inconspicuous technology sparks revolution on the subcontinent. How the scientific prowess of King', 'rising quickly in academic circles. He wrote a textbook, Chemical Principles, because he couldn’t find an adequate Russian book. Mendeleev discovered the periodic table (or Periodic System, as he called it) while attempting to organise the elements in February of 1869. He did so by writing the properties of the elements on pieces of card and arranging and rearranging them until he realised that, by putting them in order of increasing atomic weight, certain types of element regularly occurred.']], 'uris': None, 'data': None}\n"
     ]
    }
   ],
   "source": [
    "search_and_store(qvdb=qvdb, query=question)\n",
    "results = qvdb.query(question, num_results=3)\n",
    "print(results)\n",
    "\n"
   ]
  },
  {
   "cell_type": "code",
   "execution_count": 166,
   "metadata": {},
   "outputs": [],
   "source": [
    "docs=[]\n",
    "for d, s in zip(results['documents'][0], results['metadatas'][0]):\n",
    "    docs.append(f\"SOURCE: {s['source']}\\nDOCUMENT: {d}\\n\")\n",
    "documents = ' '.join(docs)"
   ]
  },
  {
   "cell_type": "code",
   "execution_count": 167,
   "metadata": {},
   "outputs": [
    {
     "name": "stdout",
     "output_type": "stream",
     "text": [
      "SOURCE: https://en.wikipedia.org/wiki/History_of_the_periodic_table\n",
      "DOCUMENT: Eventually, the periodic table was appreciated for its descriptive power and for finally systematizing the relationship between the elements,[50] although such appreciation was not universal.[51] In 1881, Mendeleev and Meyer had an argument via an exchange of articles in British journal Chemical News over priority of the periodic table, which included an article from Mendeleev, one from Meyer, one of critique of the notion of periodicity, and many more.[52] In 1882, the Royal Society in London\n",
      " SOURCE: https://www.sciencehistory.org/stories/magazine/mendeleevs-legacy-the-periodic-system/\n",
      "DOCUMENT: out Dmitri Ivanovich Mendeleev, and for the very legacy of periodicity, we are indebted to him. Eric Scerriis a lecturer in the Department of Chemistry and Biochemistry at the University of California, Los Angeles. He is the author of The Periodic Table: Its Story and Significance (Oxford University Press, 2006), from which this article is derived. Adventure and tangled interests under the sea. An inconspicuous technology sparks revolution on the subcontinent. How the scientific prowess of King\n",
      " SOURCE: https://www.rsc.org/periodic-table/history/about\n",
      "DOCUMENT: rising quickly in academic circles. He wrote a textbook, Chemical Principles, because he couldn’t find an adequate Russian book. Mendeleev discovered the periodic table (or Periodic System, as he called it) while attempting to organise the elements in February of 1869. He did so by writing the properties of the elements on pieces of card and arranging and rearranging them until he realised that, by putting them in order of increasing atomic weight, certain types of element regularly occurred.\n",
      "\n"
     ]
    }
   ],
   "source": [
    "print(documents)"
   ]
  },
  {
   "cell_type": "code",
   "execution_count": 168,
   "metadata": {},
   "outputs": [],
   "source": [
    "import ollama\n",
    "\n",
    "prompt = template.format(question=question, documents=documents)\n",
    "output = ollama.generate(model=model, system=system, prompt=prompt, stream=False)\n",
    "response = output['response'].strip()"
   ]
  },
  {
   "cell_type": "code",
   "execution_count": 169,
   "metadata": {},
   "outputs": [
    {
     "name": "stdout",
     "output_type": "stream",
     "text": [
      "According to historical records, Dmitri Ivanovich Mendeleev came up with the Periodic System. He discovered it while attempting to organize elements in 1869.\n",
      "\n",
      "Sources:\n",
      "https://en.wikipedia.org/wiki/History_of_the_periodic_table\n",
      "https://www.sciencehistory.org/stories/magazine/mendeleevs-legacy-the-periodic-system/\n",
      "https://www.rsc.org/periodic-table/history/about\n"
     ]
    }
   ],
   "source": [
    "print(response)"
   ]
  },
  {
   "cell_type": "code",
   "execution_count": 170,
   "metadata": {},
   "outputs": [],
   "source": [
    "import textwrap\n",
    "\n",
    "# Assuming response is your text\n",
    "paragraphs = response.split(\"\\n\\n\")\n",
    "\n",
    "# Wrap the first paragraph to 72 characters wide\n",
    "wrapped_paragraph = textwrap.fill(paragraphs[0], width=72)\n",
    "\n"
   ]
  },
  {
   "cell_type": "code",
   "execution_count": 171,
   "metadata": {},
   "outputs": [
    {
     "name": "stdout",
     "output_type": "stream",
     "text": [
      "According to historical records, Dmitri Ivanovich Mendeleev came up with\n",
      "the Periodic System. He discovered it while attempting to organize\n",
      "elements in 1869.\n",
      "\n",
      "Sources:\n",
      "https://en.wikipedia.org/wiki/History_of_the_periodic_table\n",
      "https://www.sciencehistory.org/stories/magazine/mendeleevs-legacy-the-periodic-system/\n",
      "https://www.rsc.org/periodic-table/history/about\n"
     ]
    }
   ],
   "source": [
    "print(wrapped_paragraph)\n",
    "print(\"\")\n",
    "if len(paragraphs) > 1:\n",
    "    print(paragraphs[1])"
   ]
  },
  {
   "cell_type": "code",
   "execution_count": 172,
   "metadata": {},
   "outputs": [],
   "source": [
    "qvdb.reset()"
   ]
  }
 ],
 "metadata": {
  "kernelspec": {
   "display_name": "pyvenv",
   "language": "python",
   "name": "python3"
  },
  "language_info": {
   "codemirror_mode": {
    "name": "ipython",
    "version": 3
   },
   "file_extension": ".py",
   "mimetype": "text/x-python",
   "name": "python",
   "nbconvert_exporter": "python",
   "pygments_lexer": "ipython3",
   "version": "3.12.3"
  }
 },
 "nbformat": 4,
 "nbformat_minor": 2
}
